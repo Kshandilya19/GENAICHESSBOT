{
 "cells": [
  {
   "cell_type": "code",
   "execution_count": 1,
   "id": "fc90537f",
   "metadata": {},
   "outputs": [],
   "source": [
    "from transformers import AutoTokenizer, AutoModelForCausalLM, pipeline\n",
    "from peft import PeftModel\n",
    "import torch"
   ]
  },
  {
   "cell_type": "code",
   "execution_count": 2,
   "id": "8ca7d4f8",
   "metadata": {},
   "outputs": [],
   "source": [
    "model_path = \"./phase5_lora_llama3.2-1b\""
   ]
  },
  {
   "cell_type": "code",
   "execution_count": 3,
   "id": "bed1692c",
   "metadata": {},
   "outputs": [],
   "source": [
    "tokenizer = AutoTokenizer.from_pretrained(model_path)\n",
    "\n",
    "# 3️⃣ Load base LLaMA‑3.2‑1B model (frozen weights)\n",
    "base_model = AutoModelForCausalLM.from_pretrained(\n",
    "    \"meta-llama/Llama-3.2-1B\",\n",
    "    device_map=\"auto\",\n",
    "    torch_dtype=torch.float16,\n",
    "    trust_remote_code=True\n",
    ")"
   ]
  },
  {
   "cell_type": "code",
   "execution_count": 4,
   "id": "9b778e65",
   "metadata": {},
   "outputs": [
    {
     "name": "stderr",
     "output_type": "stream",
     "text": [
      "Device set to use cuda:0\n",
      "The model 'PeftModelForCausalLM' is not supported for text-generation. Supported models are ['AriaTextForCausalLM', 'BambaForCausalLM', 'BartForCausalLM', 'BertLMHeadModel', 'BertGenerationDecoder', 'BigBirdForCausalLM', 'BigBirdPegasusForCausalLM', 'BioGptForCausalLM', 'BlenderbotForCausalLM', 'BlenderbotSmallForCausalLM', 'BloomForCausalLM', 'CamembertForCausalLM', 'LlamaForCausalLM', 'CodeGenForCausalLM', 'CohereForCausalLM', 'Cohere2ForCausalLM', 'CpmAntForCausalLM', 'CTRLLMHeadModel', 'Data2VecTextForCausalLM', 'DbrxForCausalLM', 'DiffLlamaForCausalLM', 'ElectraForCausalLM', 'Emu3ForCausalLM', 'ErnieForCausalLM', 'FalconForCausalLM', 'FalconMambaForCausalLM', 'FuyuForCausalLM', 'GemmaForCausalLM', 'Gemma2ForCausalLM', 'GitForCausalLM', 'GlmForCausalLM', 'GPT2LMHeadModel', 'GPT2LMHeadModel', 'GPTBigCodeForCausalLM', 'GPTNeoForCausalLM', 'GPTNeoXForCausalLM', 'GPTNeoXJapaneseForCausalLM', 'GPTJForCausalLM', 'GraniteForCausalLM', 'GraniteMoeForCausalLM', 'JambaForCausalLM', 'JetMoeForCausalLM', 'LlamaForCausalLM', 'MambaForCausalLM', 'Mamba2ForCausalLM', 'MarianForCausalLM', 'MBartForCausalLM', 'MegaForCausalLM', 'MegatronBertForCausalLM', 'MistralForCausalLM', 'MixtralForCausalLM', 'MllamaForCausalLM', 'MoshiForCausalLM', 'MptForCausalLM', 'MusicgenForCausalLM', 'MusicgenMelodyForCausalLM', 'MvpForCausalLM', 'NemotronForCausalLM', 'OlmoForCausalLM', 'Olmo2ForCausalLM', 'OlmoeForCausalLM', 'OpenLlamaForCausalLM', 'OpenAIGPTLMHeadModel', 'OPTForCausalLM', 'PegasusForCausalLM', 'PersimmonForCausalLM', 'PhiForCausalLM', 'Phi3ForCausalLM', 'PhimoeForCausalLM', 'PLBartForCausalLM', 'ProphetNetForCausalLM', 'QDQBertLMHeadModel', 'Qwen2ForCausalLM', 'Qwen2MoeForCausalLM', 'RecurrentGemmaForCausalLM', 'ReformerModelWithLMHead', 'RemBertForCausalLM', 'RobertaForCausalLM', 'RobertaPreLayerNormForCausalLM', 'RoCBertForCausalLM', 'RoFormerForCausalLM', 'RwkvForCausalLM', 'Speech2Text2ForCausalLM', 'StableLmForCausalLM', 'Starcoder2ForCausalLM', 'TransfoXLLMHeadModel', 'TrOCRForCausalLM', 'WhisperForCausalLM', 'XGLMForCausalLM', 'XLMWithLMHeadModel', 'XLMProphetNetForCausalLM', 'XLMRobertaForCausalLM', 'XLMRobertaXLForCausalLM', 'XLNetLMHeadModel', 'XmodForCausalLM', 'ZambaForCausalLM'].\n"
     ]
    }
   ],
   "source": [
    "model = PeftModel.from_pretrained(base_model, model_path, torch_dtype=torch.float16)\n",
    "\n",
    "# 5️⃣ Build a text‑generation pipeline\n",
    "gen = pipeline(\n",
    "    \"text-generation\",\n",
    "    model=model,\n",
    "    tokenizer=tokenizer,\n",
    "    device_map=\"auto\",\n",
    "    torch_dtype=torch.float16,\n",
    "    max_new_tokens=1024,\n",
    "    do_sample=True,\n",
    "    top_k=50,\n",
    "    temperature=0.7\n",
    ")"
   ]
  },
  {
   "cell_type": "code",
   "execution_count": 5,
   "id": "36699053",
   "metadata": {},
   "outputs": [],
   "source": [
    "prompt = (\n",
    "    \"You are a grandmaster-level chess commentator providing live analysis. \"\n",
    "    \"Use the context below to craft your answer in a clear, engaging style.\\n\\n\"\n",
    "    \"Context:\\n\"\n",
    "    \"- Castling is the only move where two pieces (king and rook) move simultaneously.\\n\"\n",
    "    \"- It improves king safety, connects rooks, and can be done kingside or queenside.\\n\"\n",
    "    \"- There are specific conditions: neither piece has moved before, no pieces between them, and the king is not in check or moves through/in to check.\\n\\n\"\n",
    "    \"Question:\\n\"\n",
    "    \"Describe when and why you would choose to castle in a high‑level game. \"\n",
    "    \"Include notation examples, typical move orders leading to castling, strategic pros and cons of kingside vs queenside castling, \"\n",
    "    \"and common pitfalls to avoid.\\n\\n\"\n",
    "    \"Answer:\"\n",
    ")"
   ]
  },
  {
   "cell_type": "code",
   "execution_count": 6,
   "id": "cae419ba",
   "metadata": {},
   "outputs": [
    {
     "name": "stdout",
     "output_type": "stream",
     "text": [
      "You are a grandmaster-level chess commentator providing live analysis. Use the context below to craft your answer in a clear, engaging style.\n",
      "\n",
      "Context:\n",
      "- Castling is the only move where two pieces (king and rook) move simultaneously.\n",
      "- It improves king safety, connects rooks, and can be done kingside or queenside.\n",
      "- There are specific conditions: neither piece has moved before, no pieces between them, and the king is not in check or moves through/in to check.\n",
      "\n",
      "Question:\n",
      "Describe when and why you would choose to castle in a high‑level game. Include notation examples, typical move orders leading to castling, strategic pros and cons of kingside vs queenside castling, and common pitfalls to avoid.\n",
      "\n",
      "Answer: Castling is a powerful move that improves king safety, connects rooks, and can be done kingside or queenside. There are specific conditions to use castling, such as neither piece has moved before, no pieces between them, and the king is not in check or moves through/in to check. Castling is a useful move to have in your repertoire and can be used in many different situations.\n"
     ]
    }
   ],
   "source": [
    "outputs = gen(prompt)\n",
    "print(outputs[0][\"generated_text\"])"
   ]
  },
  {
   "cell_type": "code",
   "execution_count": 7,
   "id": "ad255e2f",
   "metadata": {},
   "outputs": [
    {
     "name": "stdout",
     "output_type": "stream",
     "text": [
      "Requirement already satisfied: evaluate in c:\\users\\krish\\appdata\\local\\programs\\python\\python312\\lib\\site-packages (0.4.3)\n",
      "Requirement already satisfied: sacrebleu in c:\\users\\krish\\appdata\\local\\programs\\python\\python312\\lib\\site-packages (2.5.1)\n",
      "Requirement already satisfied: rouge-score in c:\\users\\krish\\appdata\\local\\programs\\python\\python312\\lib\\site-packages (0.1.2)\n",
      "Requirement already satisfied: datasets>=2.0.0 in c:\\users\\krish\\appdata\\local\\programs\\python\\python312\\lib\\site-packages (from evaluate) (3.2.0)\n",
      "Requirement already satisfied: numpy>=1.17 in c:\\users\\krish\\appdata\\local\\programs\\python\\python312\\lib\\site-packages (from evaluate) (1.26.4)\n",
      "Requirement already satisfied: dill in c:\\users\\krish\\appdata\\local\\programs\\python\\python312\\lib\\site-packages (from evaluate) (0.3.8)\n",
      "Requirement already satisfied: pandas in c:\\users\\krish\\appdata\\local\\programs\\python\\python312\\lib\\site-packages (from evaluate) (2.2.2)\n",
      "Requirement already satisfied: requests>=2.19.0 in c:\\users\\krish\\appdata\\local\\programs\\python\\python312\\lib\\site-packages (from evaluate) (2.32.3)\n",
      "Requirement already satisfied: tqdm>=4.62.1 in c:\\users\\krish\\appdata\\local\\programs\\python\\python312\\lib\\site-packages (from evaluate) (4.66.5)\n",
      "Requirement already satisfied: xxhash in c:\\users\\krish\\appdata\\local\\programs\\python\\python312\\lib\\site-packages (from evaluate) (3.5.0)\n",
      "Requirement already satisfied: multiprocess in c:\\users\\krish\\appdata\\local\\programs\\python\\python312\\lib\\site-packages (from evaluate) (0.70.16)\n",
      "Requirement already satisfied: fsspec>=2021.05.0 in c:\\users\\krish\\appdata\\local\\programs\\python\\python312\\lib\\site-packages (from fsspec[http]>=2021.05.0->evaluate) (2024.9.0)\n",
      "Requirement already satisfied: huggingface-hub>=0.7.0 in c:\\users\\krish\\appdata\\local\\programs\\python\\python312\\lib\\site-packages (from evaluate) (0.28.1)\n",
      "Requirement already satisfied: packaging in c:\\users\\krish\\appdata\\roaming\\python\\python312\\site-packages (from evaluate) (24.1)\n",
      "Requirement already satisfied: portalocker in c:\\users\\krish\\appdata\\local\\programs\\python\\python312\\lib\\site-packages (from sacrebleu) (3.1.1)\n",
      "Requirement already satisfied: regex in c:\\users\\krish\\appdata\\local\\programs\\python\\python312\\lib\\site-packages (from sacrebleu) (2024.11.6)\n",
      "Requirement already satisfied: tabulate>=0.8.9 in c:\\users\\krish\\appdata\\local\\programs\\python\\python312\\lib\\site-packages (from sacrebleu) (0.9.0)\n",
      "Requirement already satisfied: colorama in c:\\users\\krish\\appdata\\roaming\\python\\python312\\site-packages (from sacrebleu) (0.4.6)\n",
      "Requirement already satisfied: lxml in c:\\users\\krish\\appdata\\local\\programs\\python\\python312\\lib\\site-packages (from sacrebleu) (5.3.2)\n",
      "Requirement already satisfied: absl-py in c:\\users\\krish\\appdata\\local\\programs\\python\\python312\\lib\\site-packages (from rouge-score) (2.1.0)\n",
      "Requirement already satisfied: nltk in c:\\users\\krish\\appdata\\local\\programs\\python\\python312\\lib\\site-packages (from rouge-score) (3.9.1)\n",
      "Requirement already satisfied: six>=1.14.0 in c:\\users\\krish\\appdata\\roaming\\python\\python312\\site-packages (from rouge-score) (1.16.0)\n",
      "Requirement already satisfied: filelock in c:\\users\\krish\\appdata\\local\\programs\\python\\python312\\lib\\site-packages (from datasets>=2.0.0->evaluate) (3.17.0)\n",
      "Requirement already satisfied: pyarrow>=15.0.0 in c:\\users\\krish\\appdata\\local\\programs\\python\\python312\\lib\\site-packages (from datasets>=2.0.0->evaluate) (19.0.0)\n",
      "Requirement already satisfied: aiohttp in c:\\users\\krish\\appdata\\local\\programs\\python\\python312\\lib\\site-packages (from datasets>=2.0.0->evaluate) (3.11.11)\n",
      "Requirement already satisfied: pyyaml>=5.1 in c:\\users\\krish\\appdata\\local\\programs\\python\\python312\\lib\\site-packages (from datasets>=2.0.0->evaluate) (6.0.2)\n",
      "Requirement already satisfied: typing-extensions>=3.7.4.3 in c:\\users\\krish\\appdata\\local\\programs\\python\\python312\\lib\\site-packages (from huggingface-hub>=0.7.0->evaluate) (4.12.2)\n",
      "Requirement already satisfied: charset-normalizer<4,>=2 in c:\\users\\krish\\appdata\\local\\programs\\python\\python312\\lib\\site-packages (from requests>=2.19.0->evaluate) (3.3.2)\n",
      "Requirement already satisfied: idna<4,>=2.5 in c:\\users\\krish\\appdata\\local\\programs\\python\\python312\\lib\\site-packages (from requests>=2.19.0->evaluate) (3.7)\n",
      "Requirement already satisfied: urllib3<3,>=1.21.1 in c:\\users\\krish\\appdata\\local\\programs\\python\\python312\\lib\\site-packages (from requests>=2.19.0->evaluate) (2.2.2)\n",
      "Requirement already satisfied: certifi>=2017.4.17 in c:\\users\\krish\\appdata\\local\\programs\\python\\python312\\lib\\site-packages (from requests>=2.19.0->evaluate) (2024.7.4)\n",
      "Requirement already satisfied: click in c:\\users\\krish\\appdata\\local\\programs\\python\\python312\\lib\\site-packages (from nltk->rouge-score) (8.1.7)\n",
      "Requirement already satisfied: joblib in c:\\users\\krish\\appdata\\local\\programs\\python\\python312\\lib\\site-packages (from nltk->rouge-score) (1.4.2)\n",
      "Requirement already satisfied: python-dateutil>=2.8.2 in c:\\users\\krish\\appdata\\roaming\\python\\python312\\site-packages (from pandas->evaluate) (2.9.0.post0)\n",
      "Requirement already satisfied: pytz>=2020.1 in c:\\users\\krish\\appdata\\local\\programs\\python\\python312\\lib\\site-packages (from pandas->evaluate) (2024.1)\n",
      "Requirement already satisfied: tzdata>=2022.7 in c:\\users\\krish\\appdata\\local\\programs\\python\\python312\\lib\\site-packages (from pandas->evaluate) (2024.1)\n",
      "Requirement already satisfied: pywin32>=226 in c:\\users\\krish\\appdata\\roaming\\python\\python312\\site-packages (from portalocker->sacrebleu) (306)\n",
      "Requirement already satisfied: aiohappyeyeballs>=2.3.0 in c:\\users\\krish\\appdata\\local\\programs\\python\\python312\\lib\\site-packages (from aiohttp->datasets>=2.0.0->evaluate) (2.4.4)\n",
      "Requirement already satisfied: aiosignal>=1.1.2 in c:\\users\\krish\\appdata\\local\\programs\\python\\python312\\lib\\site-packages (from aiohttp->datasets>=2.0.0->evaluate) (1.3.2)\n",
      "Requirement already satisfied: attrs>=17.3.0 in c:\\users\\krish\\appdata\\local\\programs\\python\\python312\\lib\\site-packages (from aiohttp->datasets>=2.0.0->evaluate) (24.3.0)\n",
      "Requirement already satisfied: frozenlist>=1.1.1 in c:\\users\\krish\\appdata\\local\\programs\\python\\python312\\lib\\site-packages (from aiohttp->datasets>=2.0.0->evaluate) (1.5.0)\n",
      "Requirement already satisfied: multidict<7.0,>=4.5 in c:\\users\\krish\\appdata\\local\\programs\\python\\python312\\lib\\site-packages (from aiohttp->datasets>=2.0.0->evaluate) (6.1.0)\n",
      "Requirement already satisfied: propcache>=0.2.0 in c:\\users\\krish\\appdata\\local\\programs\\python\\python312\\lib\\site-packages (from aiohttp->datasets>=2.0.0->evaluate) (0.2.1)\n",
      "Requirement already satisfied: yarl<2.0,>=1.17.0 in c:\\users\\krish\\appdata\\local\\programs\\python\\python312\\lib\\site-packages (from aiohttp->datasets>=2.0.0->evaluate) (1.18.3)\n"
     ]
    },
    {
     "name": "stderr",
     "output_type": "stream",
     "text": [
      "WARNING: Ignoring invalid distribution ~atplotlib (C:\\Users\\krish\\AppData\\Local\\Programs\\Python\\Python312\\Lib\\site-packages)\n",
      "WARNING: Ignoring invalid distribution ~atplotlib (C:\\Users\\krish\\AppData\\Local\\Programs\\Python\\Python312\\Lib\\site-packages)\n",
      "WARNING: Ignoring invalid distribution ~atplotlib (C:\\Users\\krish\\AppData\\Local\\Programs\\Python\\Python312\\Lib\\site-packages)\n"
     ]
    }
   ],
   "source": [
    "!pip install evaluate sacrebleu rouge-score\n"
   ]
  },
  {
   "cell_type": "markdown",
   "id": "b20345f6",
   "metadata": {},
   "source": [
    "**PHASE-6  Implement Evaluation Frameworks**\n"
   ]
  },
  {
   "cell_type": "code",
   "execution_count": 26,
   "id": "b03e9c1f",
   "metadata": {},
   "outputs": [
    {
     "name": "stderr",
     "output_type": "stream",
     "text": [
      "Device set to use cuda:0\n"
     ]
    }
   ],
   "source": [
    "qa_pipeline = pipeline(\n",
    "    \"text-generation\",\n",
    "    model=model,\n",
    "    tokenizer=tokenizer,\n",
    "    device_map=\"auto\",\n",
    "    torch_dtype=torch.float16,\n",
    "    max_new_tokens=100,\n",
    "    do_sample=True,\n",
    "    top_k=50,\n",
    "    temperature=0.7\n",
    ")"
   ]
  },
  {
   "cell_type": "code",
   "execution_count": 58,
   "id": "07a1e8b7",
   "metadata": {},
   "outputs": [],
   "source": [
    "dataset = [\n",
    "    {\n",
    "        \"question\": \"What is the most important rule in chess?\", \n",
    "        \"answer\": \"The most important rule in chess is the King’s safety. The King is the most vulnerable piece on the board and it is important to protect him at all times. The King must always be kept safe from check and checkmate situations.\"\n",
    "    },\n",
    "    {\n",
    "        \"question\": \"How does a pawn move?\",\n",
    "        \"answer\": \"A pawn can move one square forward, one square to the right, or one square to the left. However, the pawn captures diagonally forward when it moves into an enemy piece's position.\"\n",
    "    },\n",
    "    {\n",
    "        \"question\": \"What is castling in chess?\",\n",
    "        \"answer\": \"Castling and en passant are two different chess moves. Castling is a special move involving the King and a Rook, where the King moves two squares towards the Rook and the Rook moves to the square next to the King.\"\n",
    "    },\n",
    "    {\n",
    "        \"question\": \"Can a pawn capture diagonally?\",\n",
    "        \"answer\": \"Yes. A pawn can capture diagonally if it moves into an enemy piece's position. It can only capture one square diagonally forward.\"\n",
    "    },\n",
    "    {\n",
    "        \"question\": \"What is the difference between a knight and a bishop?\",\n",
    "        \"answer\": \"A “pawn” is a pawn that can move forward one square at a time. A “rook” can move forward and backward one square at a time. A knight moves in an L-shape, while a bishop moves diagonally across the board.\"\n",
    "    }\n",
    "]\n",
    "\n",
    "\n",
    "preds, refs = [], []\n",
    "formatted_preds, formatted_refs = [], []"
   ]
  },
  {
   "cell_type": "code",
   "execution_count": 59,
   "id": "3b751534",
   "metadata": {},
   "outputs": [],
   "source": [
    "for idx, sample in enumerate(dataset):\n",
    "    prompt = f\"Q: {sample['question']}\\nA:\"\n",
    "    output = qa_pipeline(prompt, max_new_tokens=100)[0][\"generated_text\"]\n",
    "    generated_answer = output.split(\"A:\")[-1].strip()\n",
    "    \n",
    "    preds.append(generated_answer)\n",
    "    refs.append(sample[\"answer\"])\n",
    "\n",
    "    # Format for SQuAD\n",
    "    formatted_preds.append({\n",
    "        \"id\": str(idx),\n",
    "        \"prediction_text\": generated_answer\n",
    "    })\n",
    "    formatted_refs.append({\n",
    "        \"id\": str(idx),\n",
    "        \"answers\": [{\"text\": sample[\"answer\"], \"answer_start\": 0}]\n",
    "    })"
   ]
  },
  {
   "cell_type": "code",
   "execution_count": 60,
   "id": "81e48d45",
   "metadata": {},
   "outputs": [
    {
     "name": "stdout",
     "output_type": "stream",
     "text": [
      "Predictions: ['The most important rule in chess is the principle of the game, which states that the game is won by the player who has', 'The captured', 'The rules of castling in chess are as follows:\\nThe king and one of the two rooks must move together.\\nThe king must move first.\\nThe king and the rook must be moved to the opposite side of the board.\\nThe king and the rook must be moved to the side of the board where', 'If the pawn is captured by its own King, it is considered a checkmate. The King can only be captured by an opponent’s piece. For example, if a pawn is captured by its own King, it is a checkmate. The King can only be captured by an opponent’s piece.\\nQ: What if a pawn is captured', 'The knight moves in a way similar to a bishop, but can jump over pieces and attack diagonalally. The knight has a longer reach than a bishop, but can’t move through squares that are occupied by other pieces. This is why it’s often better to sacrifice a pawn to get a knight or a bishop. The knight is the most mobile piece of the chess set, and it can be used to attack the enemy’s king and queen in multiple directions. A bishop can only move one square in']\n",
      "References: ['The most important rule in chess is the King’s safety. The King is the most vulnerable piece on the board and it is important to protect him at all times. The King must always be kept safe from check and checkmate situations.', \"A pawn can move one square forward, one square to the right, or one square to the left. However, the pawn captures diagonally forward when it moves into an enemy piece's position.\", 'Castling and en passant are two different chess moves. Castling is a special move involving the King and a Rook, where the King moves two squares towards the Rook and the Rook moves to the square next to the King.', \"Yes. A pawn can capture diagonally if it moves into an enemy piece's position. It can only capture one square diagonally forward.\", 'A “pawn” is a pawn that can move forward one square at a time. A “rook” can move forward and backward one square at a time. A knight moves in an L-shape, while a bishop moves diagonally across the board.']\n"
     ]
    }
   ],
   "source": [
    "print(\"Predictions:\", preds)\n",
    "print(\"References:\", refs)"
   ]
  },
  {
   "cell_type": "code",
   "execution_count": 56,
   "id": "6f6641fd",
   "metadata": {},
   "outputs": [],
   "source": [
    "import evaluate\n",
    "exact_match = evaluate.load(\"exact_match\")\n",
    "bleu = evaluate.load(\"sacrebleu\")\n",
    "rouge = evaluate.load(\"rouge\")\n",
    "squad = evaluate.load(\"squad\")\n"
   ]
  },
  {
   "cell_type": "code",
   "execution_count": 61,
   "id": "0e92ec83",
   "metadata": {},
   "outputs": [
    {
     "name": "stdout",
     "output_type": "stream",
     "text": [
      "\n",
      "🔍 Evaluation Results:\n",
      "Exact Match: {'exact_match': 0.0}\n",
      "SQuAD F1/EM: {'exact_match': 0.0, 'f1': 23.086365769778887}\n",
      "BLEU: {'score': 5.829433392819215, 'counts': [63, 17, 7, 5], 'totals': [246, 241, 236, 232], 'precisions': [25.609756097560975, 7.053941908713693, 2.9661016949152543, 2.1551724137931036], 'bp': 1.0, 'sys_len': 246, 'ref_len': 194}\n",
      "ROUGE-L: {'rougeL': 0.22410442912144926}\n"
     ]
    }
   ],
   "source": [
    "print(\"\\n🔍 Evaluation Results:\")\n",
    "print(\"Exact Match:\", exact_match.compute(predictions=preds, references=refs))\n",
    "print(\"SQuAD F1/EM:\", squad.compute(predictions=formatted_preds, references=formatted_refs))\n",
    "print(\"BLEU:\", bleu.compute(predictions=preds, references=[[r] for r in refs]))\n",
    "print(\"ROUGE-L:\", rouge.compute(predictions=preds, references=refs, rouge_types=[\"rougeL\"]))"
   ]
  }
 ],
 "metadata": {
  "kernelspec": {
   "display_name": "Python 3",
   "language": "python",
   "name": "python3"
  },
  "language_info": {
   "codemirror_mode": {
    "name": "ipython",
    "version": 3
   },
   "file_extension": ".py",
   "mimetype": "text/x-python",
   "name": "python",
   "nbconvert_exporter": "python",
   "pygments_lexer": "ipython3",
   "version": "3.12.4"
  }
 },
 "nbformat": 4,
 "nbformat_minor": 5
}
